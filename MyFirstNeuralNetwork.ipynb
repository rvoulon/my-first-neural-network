{
 "cells": [
  {
   "cell_type": "code",
   "execution_count": 1,
   "metadata": {},
   "outputs": [],
   "source": [
    "import numpy as np\n",
    "# import scipy.special for the sigmoid function ('expit()')\n",
    "from scipy import special\n",
    "from matplotlib import pyplot as plt\n",
    "%matplotlib inline"
   ]
  },
  {
   "cell_type": "code",
   "execution_count": 2,
   "metadata": {},
   "outputs": [],
   "source": [
    "# neural network class definition\n",
    "class neuralNetwork:\n",
    "    \n",
    "    # initialize the neural network\n",
    "    def __init__(self, inputnodes, hiddennodes, outputnodes, learningrate):\n",
    "        # set the number of nodes in each input, hidden and output layer\n",
    "        self.i_nodes = inputnodes\n",
    "        self.h_nodes = hiddennodes\n",
    "        self.o_nodes = outputnodes\n",
    "        \n",
    "        # link weight matrices wih and who\n",
    "        # weights inside the arrays are w_i_j, where link is from node i to j in the next layer\n",
    "        # w11 w21\n",
    "        # w12 w22 etc\n",
    "\n",
    "        # the simple way:\n",
    "        # (we substract 0.5 to have values between -0.5 and +0.5)\n",
    "        # self.wih = (np.random.rand(self.h_nodes, self.i_nodes) - 0.5)\n",
    "        # self.who = (np.random.rand(self.o_nodes, self.h_nodes) - 0.5)\n",
    "        \n",
    "        # better way of doing the above is using a normal distribution around zero\n",
    "        # with a standard deviation related to the number of incoming links to a node:\n",
    "        # 1/√(number of incoming links) (in other words: the number of incoming links ** -0.5)\n",
    "        self.wih = np.random.normal(0.0, pow(self.i_nodes, - 0.5), (self.h_nodes, self.i_nodes))\n",
    "        self.who = np.random.normal(0.0, pow(self.h_nodes, - 0.5), (self.o_nodes, self.h_nodes))\n",
    "        \n",
    "        # set the learning rate\n",
    "        self.lr = learningrate\n",
    "        \n",
    "        # activation function is the sigmoid function ('expit' in scipy.special package)\n",
    "        self.activation_function = lambda x: special.expit(x)\n",
    "\n",
    "        pass\n",
    "    \n",
    "    # train the neural network\n",
    "    def train(self, inputs_list, targets_list):\n",
    "        \n",
    "        # convert inputs_list and targets_list to 2d array (and transpose them)\n",
    "        inputs = np.array(inputs_list, ndmin=2).T\n",
    "        targets = np.array(targets_list, ndmin=2).T\n",
    "        \n",
    "        # calculate signals coming into and out of hidden layer\n",
    "        # inputs 𝗫 = 𝗪 · 𝗜 using the matrix dot product function\n",
    "        hidden_inputs = np.dot(self.wih, inputs)\n",
    "        # outputs 𝗢 = sigmoid(𝗫) using sigmoid function as activation function\n",
    "        hidden_outputs = self.activation_function(hidden_inputs)\n",
    "        \n",
    "        # calculate signals coming into and out of output layer\n",
    "        final_inputs = np.dot(self.who, hidden_outputs)\n",
    "        final_outputs = self.activation_function(final_inputs)\n",
    "        \n",
    "        # output error is (target output - actual output)\n",
    "        output_errors = targets - final_outputs\n",
    "        \n",
    "        # to train the model to learn from output_errors, we need to adjust\n",
    "        # the weights and backpropagate adjustments to the previous layers\n",
    "        # errors coming from the hidden layer is output_errors split by weights,\n",
    "        # and then recombined again at each hidden node\n",
    "        hidden_errors = np.dot(self.who.T, output_errors)\n",
    "        # update the weights for the links between hidden and output layers\n",
    "        self.who += self.lr * np.dot((output_errors * final_outputs * (1.0 - final_outputs)), np.transpose(hidden_outputs))\n",
    "        # update the weights for the links between input and hidden layers\n",
    "        self.wih += self.lr * np.dot((hidden_errors * hidden_outputs * (1.0 - hidden_outputs)), np.transpose(inputs))\n",
    "        \n",
    "        pass\n",
    "    \n",
    "    # query the neural network\n",
    "    def query(self, inputs_list):\n",
    "        # convert inputs_list to 2d array and transpose it\n",
    "        inputs = np.array(inputs_list, ndmin=2).T\n",
    "        \n",
    "        # calculate signals into hidden layer\n",
    "        hidden_inputs = np.dot(self.wih, inputs)\n",
    "        # calculate signals coming from hidden layer\n",
    "        hidden_outputs = self.activation_function(hidden_inputs)\n",
    "        \n",
    "        # calculate signals into final output layer\n",
    "        final_inputs = np.dot(self.who, hidden_outputs)\n",
    "        # calculate signals coming from the output layer\n",
    "        final_outputs = self.activation_function(final_inputs)\n",
    "        \n",
    "        return final_outputs\n",
    "    "
   ]
  },
  {
   "cell_type": "code",
   "execution_count": 3,
   "metadata": {},
   "outputs": [],
   "source": [
    "# number of input, hidden and output nodes\n",
    "input_nodes = 784\n",
    "hidden_nodes = 100\n",
    "output_nodes = 10\n",
    "\n",
    "# learning rate\n",
    "learning_rate = 0.3\n",
    "\n",
    "# create instance of neural network\n",
    "n = neuralNetwork(input_nodes, hidden_nodes, output_nodes, learning_rate)"
   ]
  },
  {
   "cell_type": "code",
   "execution_count": 4,
   "metadata": {},
   "outputs": [],
   "source": [
    "# load the mnist training data csv file\n",
    "training_data_file = open(\"dataset/mnist_train_100.csv\", 'r')\n",
    "training_data_list = training_data_file.readlines()\n",
    "training_data_file.close()"
   ]
  },
  {
   "cell_type": "code",
   "execution_count": 5,
   "metadata": {},
   "outputs": [],
   "source": [
    "# train the neural network\n",
    "\n",
    "# go through all the records in the training data set\n",
    "for record in training_data_list:\n",
    "    \n",
    "    # split the records at ','\n",
    "    all_values = record.split(',')\n",
    "    \n",
    "    # scale and shift the inputs from 0-255 to 0.01-1.0\n",
    "    # (np.asfarray forces float type)\n",
    "    inputs = (np.asfarray(all_values[1:]) / 255.0 * 0.99) + 0.01\n",
    "\n",
    "    # create the target output values (all values at 0.01 except desired label at 0.99)\n",
    "    target_outputs = np.zeros(output_nodes) + 0.01\n",
    "\n",
    "    # all_values[0] is the target label for this record\n",
    "    target_outputs[int(all_values[0])] = 0.99\n",
    "\n",
    "    n.train(inputs, target_outputs)\n",
    "    \n",
    "    pass"
   ]
  },
  {
   "cell_type": "code",
   "execution_count": 6,
   "metadata": {},
   "outputs": [],
   "source": [
    "test_data_file = open(\"dataset/mnist_test_10.csv\", 'r')\n",
    "test_data_list = test_data_file.readlines()\n",
    "test_data_file.close()"
   ]
  },
  {
   "cell_type": "code",
   "execution_count": 7,
   "metadata": {},
   "outputs": [
    {
     "name": "stdout",
     "output_type": "stream",
     "text": [
      "7\n"
     ]
    }
   ],
   "source": [
    "all_values = test_data_list[0].split(',')\n",
    "print(all_values[0])"
   ]
  },
  {
   "cell_type": "code",
   "execution_count": 8,
   "metadata": {},
   "outputs": [
    {
     "data": {
      "text/plain": [
       "<matplotlib.image.AxesImage at 0x10c163320>"
      ]
     },
     "execution_count": 8,
     "metadata": {},
     "output_type": "execute_result"
    },
    {
     "data": {
      "image/png": "[encoded data removed]",
      "text/plain": [
       "<Figure size 432x288 with 1 Axes>"
      ]
     },
     "metadata": {},
     "output_type": "display_data"
    }
   ],
   "source": [
    "image_array = np.asfarray(all_values[1:]).reshape((28, 28))\n",
    "plt.imshow(image_array, cmap=\"Greys\", interpolation=\"None\")"
   ]
  },
  {
   "cell_type": "code",
   "execution_count": 9,
   "metadata": {},
   "outputs": [
    {
     "data": {
      "text/plain": [
       "array([[0.11336268],\n",
       "       [0.08401492],\n",
       "       [0.04606143],\n",
       "       [0.18436664],\n",
       "       [0.18511866],\n",
       "       [0.04187602],\n",
       "       [0.0379323 ],\n",
       "       [0.43697011],\n",
       "       [0.10559383],\n",
       "       [0.08048212]])"
      ]
     },
     "execution_count": 9,
     "metadata": {},
     "output_type": "execute_result"
    }
   ],
   "source": [
    "n.query((np.asfarray(all_values[1:]) / 255.0 * 0.99) + 0.01)"
   ]
  },
  {
   "cell_type": "code",
   "execution_count": 10,
   "metadata": {},
   "outputs": [
    {
     "name": "stdout",
     "output_type": "stream",
     "text": [
      "Correct label: 7\n",
      "Output label: 7\n",
      "Correct label: 2\n",
      "Output label: 3\n",
      "Correct label: 1\n",
      "Output label: 1\n",
      "Correct label: 0\n",
      "Output label: 0\n",
      "Correct label: 4\n",
      "Output label: 4\n",
      "Correct label: 1\n",
      "Output label: 1\n",
      "Correct label: 4\n",
      "Output label: 4\n",
      "Correct label: 9\n",
      "Output label: 3\n",
      "Correct label: 5\n",
      "Output label: 1\n",
      "Correct label: 9\n",
      "Output label: 7\n",
      "Score: [1, 0, 1, 1, 1, 1, 1, 0, 0, 0]\n"
     ]
    }
   ],
   "source": [
    "# test the neural network\n",
    "\n",
    "# initialize scorecard, to track for how well the network performs\n",
    "scorecard = []\n",
    "\n",
    "# go through all the records in the test data set\n",
    "for record in test_data_list:\n",
    "    \n",
    "    # split the records at ','\n",
    "    all_values = record.split(',')\n",
    "    \n",
    "    # correct answer for this record\n",
    "    correct_label = int(all_values[0])\n",
    "    print(f\"Correct label: {correct_label}\")\n",
    "    \n",
    "    # scale and shift the inputs\n",
    "    inputs = (np.asfarray(all_values[1:]) / 255.0 * 0.99) + 0.01\n",
    "    \n",
    "    # query the network\n",
    "    outputs = n.query(inputs)\n",
    "    \n",
    "    # index of highest value corresponds to the label\n",
    "    output_label = np.argmax(outputs)\n",
    "    print(f\"Output label: {output_label}\")\n",
    "\n",
    "    # if output correct, add one to score\n",
    "    if (output_label == correct_label):\n",
    "        scorecard.append(1)\n",
    "    else:\n",
    "        scorecard.append(0)\n",
    "    pass\n",
    "\n",
    "print(f\"Score: {scorecard}\")\n",
    "\n",
    "pass\n"
   ]
  },
  {
   "cell_type": "code",
   "execution_count": null,
   "metadata": {},
   "outputs": [],
   "source": []
  }
 ],
 "metadata": {
  "kernelspec": {
   "display_name": "Python 3",
   "language": "python",
   "name": "python3"
  },
  "language_info": {
   "codemirror_mode": {
    "name": "ipython",
    "version": 3
   },
   "file_extension": ".py",
   "mimetype": "text/x-python",
   "name": "python",
   "nbconvert_exporter": "python",
   "pygments_lexer": "ipython3",
   "version": "3.6.5"
  }
 },
 "nbformat": 4,
 "nbformat_minor": 2
}
